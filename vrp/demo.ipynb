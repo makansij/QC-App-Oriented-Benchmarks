{
 "cells": [
  {
   "cell_type": "code",
   "execution_count": 1,
   "metadata": {},
   "outputs": [],
   "source": [
    "import time\n",
    "import cloudpickle\n",
    "import pandas as pd\n",
    "import numpy as np\n",
    "np.set_printoptions(linewidth=200)\n",
    "import sys\n",
    "import generate_examples\n",
    "import milp"
   ]
  },
  {
   "cell_type": "markdown",
   "metadata": {},
   "source": [
    "### Create the desired list of examples to solve, by specifying:\n",
    "- `num_customers_vals`: Number of customers in a list (num_customers_vals)\n",
    "- `solomon_list`: Type of Solomon example (e.g. r101, c201)\n",
    "- `N`: Number of random examples to generate for each combination of `num_customers_vals` and `solomon_list`\n",
    "- `outfile`: The name of the txt file to store the names of the examples"
   ]
  },
  {
   "cell_type": "code",
   "execution_count": 2,
   "metadata": {
    "scrolled": true
   },
   "outputs": [
    {
     "name": "stdout",
     "output_type": "stream",
     "text": [
      "pickle file already exists, continuing\n",
      "pickle file already exists, continuing\n",
      "pickle file already exists, continuing\n",
      "pickle file already exists, continuing\n",
      "pickle file already exists, continuing\n",
      "pickle file already exists, continuing\n",
      "pickle file already exists, continuing\n",
      "pickle file already exists, continuing\n",
      "pickle file already exists, continuing\n",
      "pickle file already exists, continuing\n",
      "pickle file already exists, continuing\n",
      "pickle file already exists, continuing\n",
      "pickle file already exists, continuing\n",
      "pickle file already exists, continuing\n",
      "pickle file already exists, continuing\n",
      "pickle file already exists, continuing\n",
      "pickle file already exists, continuing\n",
      "pickle file already exists, continuing\n",
      "pickle file already exists, continuing\n",
      "pickle file already exists, continuing\n",
      "pickle file already exists, continuing\n",
      "pickle file already exists, continuing\n",
      "pickle file already exists, continuing\n",
      "pickle file already exists, continuing\n",
      "pickle file already exists, continuing\n",
      "pickle file already exists, continuing\n",
      "pickle file already exists, continuing\n",
      "pickle file already exists, continuing\n",
      "pickle file already exists, continuing\n",
      "pickle file already exists, continuing\n",
      "pickle file already exists, continuing\n",
      "pickle file already exists, continuing\n",
      "pickle file already exists, continuing\n",
      "pickle file already exists, continuing\n",
      "pickle file already exists, continuing\n",
      "pickle file already exists, continuing\n",
      "pickle file already exists, continuing\n",
      "pickle file already exists, continuing\n",
      "pickle file already exists, continuing\n",
      "pickle file already exists, continuing\n"
     ]
    }
   ],
   "source": [
    "num_customers_vals=[1,5,10,20]\n",
    "N=5\n",
    "solomon_list=['r101', 'c101']\n",
    "outfile='examples_demo.txt'\n",
    "generate_examples.generate_examples_list(num_customers_vals, N, solomon_list, outfile)"
   ]
  },
  {
   "cell_type": "markdown",
   "metadata": {},
   "source": [
    "### The examples should be stored in the sub-directory \"examples\""
   ]
  },
  {
   "cell_type": "code",
   "execution_count": 3,
   "metadata": {},
   "outputs": [],
   "source": [
    "# load an example\n",
    "num_customers=10\n",
    "with open('examples/example_num_customers=10_i=0_solomon=r101'+'.pickle', 'rb') as f:\n",
    "    loaded_example = cloudpickle.load(f)"
   ]
  },
  {
   "cell_type": "code",
   "execution_count": 4,
   "metadata": {},
   "outputs": [],
   "source": [
    "time_table, dist_matrix = loaded_example"
   ]
  },
  {
   "cell_type": "markdown",
   "metadata": {},
   "source": [
    "### Data Description\n",
    "`time_table` column descriptions:\n",
    "- e_i and l_i are the start and end (respectively) of the time windows within which the customers must be serviced\n",
    "- s_i is the time it takes to service the customer\n",
    "- customer_id is the identifier of the customer in the Solomon example that was sampled (notice they are sampled with replacement, so there can be duplicates)\n",
    "- index indicates which customer in the generated example\n",
    "\n",
    "`dist_matrix` is the distance matrix:\n",
    "- distances are assumed to be equal to travel times\n",
    "- distances are assumed to obey the triangle inequality\n",
    "- distances are assumed to be symmetrical (distance from a to b is same as from b to a)"
   ]
  },
  {
   "cell_type": "code",
   "execution_count": 5,
   "metadata": {},
   "outputs": [
    {
     "data": {
      "text/html": [
       "<div>\n",
       "<style scoped>\n",
       "    .dataframe tbody tr th:only-of-type {\n",
       "        vertical-align: middle;\n",
       "    }\n",
       "\n",
       "    .dataframe tbody tr th {\n",
       "        vertical-align: top;\n",
       "    }\n",
       "\n",
       "    .dataframe thead th {\n",
       "        text-align: right;\n",
       "    }\n",
       "</style>\n",
       "<table border=\"1\" class=\"dataframe\">\n",
       "  <thead>\n",
       "    <tr style=\"text-align: right;\">\n",
       "      <th></th>\n",
       "      <th>customer_id</th>\n",
       "      <th>e_i</th>\n",
       "      <th>l_i</th>\n",
       "      <th>s_i</th>\n",
       "    </tr>\n",
       "  </thead>\n",
       "  <tbody>\n",
       "    <tr>\n",
       "      <th>0</th>\n",
       "      <td>0.0</td>\n",
       "      <td>0.0</td>\n",
       "      <td>inf</td>\n",
       "      <td>0.0</td>\n",
       "    </tr>\n",
       "    <tr>\n",
       "      <th>1</th>\n",
       "      <td>45.0</td>\n",
       "      <td>32.0</td>\n",
       "      <td>42.0</td>\n",
       "      <td>10.0</td>\n",
       "    </tr>\n",
       "    <tr>\n",
       "      <th>2</th>\n",
       "      <td>48.0</td>\n",
       "      <td>165.0</td>\n",
       "      <td>175.0</td>\n",
       "      <td>10.0</td>\n",
       "    </tr>\n",
       "    <tr>\n",
       "      <th>3</th>\n",
       "      <td>65.0</td>\n",
       "      <td>51.0</td>\n",
       "      <td>61.0</td>\n",
       "      <td>10.0</td>\n",
       "    </tr>\n",
       "    <tr>\n",
       "      <th>4</th>\n",
       "      <td>68.0</td>\n",
       "      <td>142.0</td>\n",
       "      <td>152.0</td>\n",
       "      <td>10.0</td>\n",
       "    </tr>\n",
       "    <tr>\n",
       "      <th>5</th>\n",
       "      <td>68.0</td>\n",
       "      <td>142.0</td>\n",
       "      <td>152.0</td>\n",
       "      <td>10.0</td>\n",
       "    </tr>\n",
       "    <tr>\n",
       "      <th>6</th>\n",
       "      <td>10.0</td>\n",
       "      <td>124.0</td>\n",
       "      <td>134.0</td>\n",
       "      <td>10.0</td>\n",
       "    </tr>\n",
       "    <tr>\n",
       "      <th>7</th>\n",
       "      <td>84.0</td>\n",
       "      <td>101.0</td>\n",
       "      <td>111.0</td>\n",
       "      <td>10.0</td>\n",
       "    </tr>\n",
       "    <tr>\n",
       "      <th>8</th>\n",
       "      <td>22.0</td>\n",
       "      <td>97.0</td>\n",
       "      <td>107.0</td>\n",
       "      <td>10.0</td>\n",
       "    </tr>\n",
       "    <tr>\n",
       "      <th>9</th>\n",
       "      <td>37.0</td>\n",
       "      <td>134.0</td>\n",
       "      <td>144.0</td>\n",
       "      <td>10.0</td>\n",
       "    </tr>\n",
       "    <tr>\n",
       "      <th>10</th>\n",
       "      <td>88.0</td>\n",
       "      <td>74.0</td>\n",
       "      <td>84.0</td>\n",
       "      <td>10.0</td>\n",
       "    </tr>\n",
       "  </tbody>\n",
       "</table>\n",
       "</div>"
      ],
      "text/plain": [
       "    customer_id    e_i    l_i   s_i\n",
       "0           0.0    0.0    inf   0.0\n",
       "1          45.0   32.0   42.0  10.0\n",
       "2          48.0  165.0  175.0  10.0\n",
       "3          65.0   51.0   61.0  10.0\n",
       "4          68.0  142.0  152.0  10.0\n",
       "5          68.0  142.0  152.0  10.0\n",
       "6          10.0  124.0  134.0  10.0\n",
       "7          84.0  101.0  111.0  10.0\n",
       "8          22.0   97.0  107.0  10.0\n",
       "9          37.0  134.0  144.0  10.0\n",
       "10         88.0   74.0   84.0  10.0"
      ]
     },
     "execution_count": 5,
     "metadata": {},
     "output_type": "execute_result"
    }
   ],
   "source": [
    "time_table"
   ]
  },
  {
   "cell_type": "code",
   "execution_count": 6,
   "metadata": {},
   "outputs": [
    {
     "data": {
      "text/plain": [
       "(101, 101)"
      ]
     },
     "execution_count": 6,
     "metadata": {},
     "output_type": "execute_result"
    }
   ],
   "source": [
    "np.shape(dist_matrix)"
   ]
  },
  {
   "cell_type": "code",
   "execution_count": 7,
   "metadata": {},
   "outputs": [
    {
     "data": {
      "text/plain": [
       "array([[ 0.        , 15.23154621, 18.        , ..., 21.26029163, 17.49285568, 24.04163056],\n",
       "       [15.23154621,  0.        , 32.55764119, ..., 35.60898763, 31.144823  , 38.60051813],\n",
       "       [18.        , 32.55764119,  0.        , ..., 16.4924225 , 17.49285568, 17.02938637],\n",
       "       ...,\n",
       "       [21.26029163, 35.60898763, 16.4924225 , ...,  0.        ,  5.09901951,  3.16227766],\n",
       "       [17.49285568, 31.144823  , 17.49285568, ...,  5.09901951,  0.        ,  8.24621125],\n",
       "       [24.04163056, 38.60051813, 17.02938637, ...,  3.16227766,  8.24621125,  0.        ]])"
      ]
     },
     "execution_count": 7,
     "metadata": {},
     "output_type": "execute_result"
    }
   ],
   "source": [
    "dist_matrix"
   ]
  },
  {
   "cell_type": "markdown",
   "metadata": {},
   "source": [
    "#### Compute optimal solution"
   ]
  },
  {
   "cell_type": "code",
   "execution_count": 8,
   "metadata": {},
   "outputs": [
    {
     "name": "stdout",
     "output_type": "stream",
     "text": [
      "The route of vehicle k=0: \n",
      "\t From node 0 to node 6\n",
      "\t From node 6 to node 5\n",
      "\t From node 5 to node 11\n",
      "The route of vehicle k=1: \n",
      "\t From node 0 to node 2\n",
      "\t From node 2 to node 11\n",
      "The route of vehicle k=2: \n",
      "\t From node 0 to node 7\n",
      "\t From node 7 to node 11\n",
      "The route of vehicle k=4: \n",
      "\t From node 0 to node 8\n",
      "\t From node 8 to node 11\n",
      "The route of vehicle k=6: \n",
      "\t From node 0 to node 1\n",
      "\t From node 1 to node 10\n",
      "\t From node 10 to node 4\n",
      "\t From node 4 to node 11\n",
      "The route of vehicle k=7: \n",
      "\t From node 0 to node 3\n",
      "\t From node 3 to node 9\n",
      "\t From node 9 to node 11\n",
      "\n",
      "Vehicle 0 travels from 0 to 6\n",
      "Vehicle 0 travels from 5 to 11\n",
      "Vehicle 0 travels from 6 to 5\n",
      "Vehicle 1 travels from 0 to 2\n",
      "Vehicle 1 travels from 2 to 11\n",
      "Vehicle 2 travels from 0 to 7\n",
      "Vehicle 2 travels from 7 to 11\n",
      "Vehicle 4 travels from 0 to 8\n",
      "Vehicle 4 travels from 8 to 11\n",
      "Vehicle 6 travels from 0 to 1\n",
      "Vehicle 6 travels from 1 to 10\n",
      "Vehicle 6 travels from 4 to 11\n",
      "Vehicle 6 travels from 10 to 4\n",
      "Vehicle 7 travels from 0 to 3\n",
      "Vehicle 7 travels from 3 to 9\n",
      "Vehicle 7 travels from 9 to 11\n",
      "Node 1 arrival time: 42.0, within time window ( 32.0 42.0  )\n",
      "Node 2 arrival time: 165.0, within time window ( 165.0 175.0  )\n",
      "Node 3 arrival time: 51.0, within time window ( 51.0 61.0  )\n",
      "Node 4 arrival time: 142.0, within time window ( 142.0 152.0  )\n",
      "Node 5 arrival time: 152.0, within time window ( 142.0 152.0  )\n",
      "Node 6 arrival time: 124.0, within time window ( 124.0 134.0  )\n",
      "Node 7 arrival time: 111.0, within time window ( 101.0 111.0  )\n",
      "Node 8 arrival time: 107.0, within time window ( 97.0 107.0  )\n",
      "Node 9 arrival time: 134.0, within time window ( 134.0 144.0  )\n",
      "Node 10 arrival time: 74.0, within time window ( 74.0 84.0  )\n"
     ]
    }
   ],
   "source": [
    "df = time_table\n",
    "dist_matrix = dist_matrix\n",
    "n_customers = num_customers\n",
    "(total_time, objective, data) = milp.solve_milp(df, dist_matrix, n_customers) "
   ]
  },
  {
   "cell_type": "code",
   "execution_count": 9,
   "metadata": {},
   "outputs": [
    {
     "name": "stdout",
     "output_type": "stream",
     "text": [
      "time is  0.019872188568115234\n",
      "objective_val is  154.79092799273852\n",
      "data is  unknown\n"
     ]
    }
   ],
   "source": [
    "print('time is ',         total_time)\n",
    "print('objective_val is ',objective)\n",
    "print('data is ',         data)"
   ]
  },
  {
   "cell_type": "code",
   "execution_count": null,
   "metadata": {},
   "outputs": [],
   "source": []
  }
 ],
 "metadata": {
  "kernelspec": {
   "display_name": "Python 3 (ipykernel)",
   "language": "python",
   "name": "python3"
  },
  "language_info": {
   "codemirror_mode": {
    "name": "ipython",
    "version": 3
   },
   "file_extension": ".py",
   "mimetype": "text/x-python",
   "name": "python",
   "nbconvert_exporter": "python",
   "pygments_lexer": "ipython3",
   "version": "3.12.4"
  }
 },
 "nbformat": 4,
 "nbformat_minor": 4
}
